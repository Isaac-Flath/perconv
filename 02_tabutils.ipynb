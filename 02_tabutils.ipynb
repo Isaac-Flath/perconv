{
 "cells": [
  {
   "cell_type": "code",
   "execution_count": 1,
   "metadata": {},
   "outputs": [],
   "source": [
    "# default_exp tabutils"
   ]
  },
  {
   "cell_type": "markdown",
   "metadata": {},
   "source": [
    "# Tabular Utils\n",
    "\n",
    "> Reusable code snippits for Tabular modeling"
   ]
  },
  {
   "cell_type": "code",
   "execution_count": 6,
   "metadata": {},
   "outputs": [],
   "source": [
    "# export\n",
    "from pathlib import Path\n",
    "import pandas as pd\n",
    "from fastai.tabular.all import *\n"
   ]
  },
  {
   "cell_type": "code",
   "execution_count": 7,
   "metadata": {},
   "outputs": [],
   "source": [
    "# export\n",
    "def get_corr(df):\n",
    "    return pd.DataFrame(np.round(scipy.stats.spearmanr(df).correlation, 4),index=df.columns,columns=df.columns)"
   ]
  },
  {
   "cell_type": "code",
   "execution_count": 8,
   "metadata": {},
   "outputs": [],
   "source": [
    "# export\n",
    "def corr_drop_cols(cor, thresh):\n",
    "    ''' input:  cor is a correlation df such as df.corr().abs().  Thresh is the cutoff for what is too corrolated\n",
    "        output: list of columns to drop\n",
    "    '''\n",
    "    max_corr = dict()\n",
    "    drop_list = L()\n",
    "    for col in cor.columns:\n",
    "        max_corr[col] = 0\n",
    "        for row in cor.index:\n",
    "            if row == col: continue\n",
    "            if row in drop_list: continue\n",
    "            if cor.loc[row,col] > max_corr[col]: max_corr[col] = cor.loc[row,col]\n",
    "        if max_corr[col] > thresh: drop_list.append(col)\n",
    "    return drop_list"
   ]
  },
  {
   "cell_type": "code",
   "execution_count": 9,
   "metadata": {},
   "outputs": [],
   "source": [
    "# export\n",
    "def rf_feat_importance(m, df):\n",
    "    '''Code from github.com/fastai/fastbook chapter 9'''\n",
    "    return pd.DataFrame({'cols':df.columns, 'imp':m.feature_importances_}).sort_values('imp', ascending=False)"
   ]
  },
  {
   "cell_type": "code",
   "execution_count": 10,
   "metadata": {},
   "outputs": [],
   "source": [
    "# export\n",
    "def plot_fi(fi): \n",
    "    '''Code from github.com/fastai/fastbook chapter 9'''\n",
    "    return fi.plot('cols', 'imp', 'barh', figsize=(12,7), legend=False)"
   ]
  },
  {
   "cell_type": "code",
   "execution_count": 11,
   "metadata": {},
   "outputs": [],
   "source": [
    "# export\n",
    "@patch\n",
    "def export(self:TabularPandas, fname='export.pkl', pickle_protocol=2):\n",
    "    '''Export the contents of `self` without the items\n",
    "    Written by Zach Mueller'''\n",
    "    old_to = self\n",
    "    self = self.new_empty()\n",
    "    with warnings.catch_warnings():\n",
    "        warnings.simplefilter(\"ignore\")\n",
    "        pickle.dump(self, open(Path(fname), 'wb'), protocol=pickle_protocol)\n",
    "        self = old_to"
   ]
  },
  {
   "cell_type": "code",
   "execution_count": 12,
   "metadata": {},
   "outputs": [],
   "source": [
    "# export\n",
    "def load_pandas(fname):\n",
    "    '''Load in a `TabularPandas` object from `fname`\n",
    "    Written by Zach Mueller'''\n",
    "\n",
    "    distrib_barrier()\n",
    "    res = pickle.load(open(fname, 'rb'))\n",
    "    return res"
   ]
  },
  {
   "cell_type": "code",
   "execution_count": null,
   "metadata": {},
   "outputs": [],
   "source": []
  }
 ],
 "metadata": {
  "kernelspec": {
   "display_name": "Python 3",
   "language": "python",
   "name": "python3"
  },
  "language_info": {
   "codemirror_mode": {
    "name": "ipython",
    "version": 3
   },
   "file_extension": ".py",
   "mimetype": "text/x-python",
   "name": "python",
   "nbconvert_exporter": "python",
   "pygments_lexer": "ipython3",
   "version": "3.8.5"
  }
 },
 "nbformat": 4,
 "nbformat_minor": 4
}
