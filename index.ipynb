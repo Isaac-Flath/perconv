{
 "cells": [
  {
   "cell_type": "code",
   "execution_count": null,
   "metadata": {},
   "outputs": [],
   "source": [
    "#hide\n",
    "from perutils.nbutils import simple_export_all_nb,simple_export_one_nb"
   ]
  },
  {
   "cell_type": "markdown",
   "metadata": {},
   "source": [
    "# Personal Utils (perutils)\n",
    "\n",
    "> Notebook -> module conversion with #export flags and nothing else"
   ]
  },
  {
   "cell_type": "markdown",
   "metadata": {},
   "source": [
    "**Purpose:**  The purpose and main use of this module is for adhoc projects where a full blown nbdev project is not necessary \n",
    "\n",
    "**Example Scenario** \n",
    "\n",
    "Imagine you are working on a kaggle competition. You may not want the full nbdev.  For example, you don't need separate documentation from your notebooks and you're never going to release it to pip or conda.  This module simplifies the process so you just run one command and it creates .py files from your notebooks.  Maybe you are doing an ensemble and to export the dataloaders from a notebook so you can import them into seperate notebooks for your seperate models, or maybe you have a seperate use case.\n",
    "\n",
    "That's what this module does.  it's just the #export flags from nbdev and exporting to a module folder with no setup (ie settings.ini, \\_\\_nbdev.py, etc.) for fast minimal use"
   ]
  },
  {
   "cell_type": "markdown",
   "metadata": {},
   "source": [
    "## Install"
   ]
  },
  {
   "cell_type": "markdown",
   "metadata": {},
   "source": [
    "`pip install git+https://github.com/isaac-flath/perutils`"
   ]
  },
  {
   "cell_type": "markdown",
   "metadata": {},
   "source": [
    "## How to use"
   ]
  },
  {
   "cell_type": "code",
   "execution_count": null,
   "metadata": {},
   "outputs": [],
   "source": [
    "#hide\n",
    "from nbdev.showdoc import *"
   ]
  },
  {
   "cell_type": "markdown",
   "metadata": {},
   "source": [
    "### Shelve Experiment Tracking\n",
    "\n",
    "This module is designed to assist me in tracking experiments when I am working on data science and machine learning tasks, though is flexible enough to track most things.  This allows for easy tracking and plotting of many different types of information and datatypes without requiring a consistent schema so you can add new things without adjusting your dataframe or table.\n",
    "\n",
    "General access to a shelve db can be reached in one of two ways and behaves similar to a dictionary.\n",
    "\n",
    "```python\n",
    "with shelve.open('test.shelve') as d: \n",
    "    print(d['exp'])\n",
    "\n",
    "d = shelve.open('test.shelve')\n",
    "print(d['exp']\n",
    "d.close()\n",
    "```\n",
    "\n",
    "This module assumes a certain structure.  If we assume: `d = shelve.open('test.shelve')`\n",
    "\n",
    "```python\n",
    "assert type(d[key]) == list\n",
    "assert type(d[key][0]) == dict\n",
    "```\n",
    "\n",
    "Additionally:\n",
    "+ keys in an experiment (`d['exp'][0][key]` must be strings but the values can be anything that can be pickled\n",
    "+ Plotting functions assumes the value you want to plot (ie `d['exp][0]['batch_loss']` is list like and the name (for the legend) is a string\n",
    "\n",
    "\n",
    "#### Create and Add Data\n",
    "\n",
    "The process is:\n",
    "1. Create a dict with all the information\n",
    "2. Append dict to database\n",
    "\n",
    "This will create `filename` if it does not exist\n",
    "\n",
    "```python\n",
    "append(filename,new_dict)```\n",
    "\n",
    ">note:  You can write individual elements at a time as well just like you would in a normal dictionary if that is preferred.\n",
    "\n",
    "#### Delete\n",
    "\n",
    "`-1` can be replaced with any index location.\n",
    "```python\n",
    "delete(filename,-1)```\n",
    "\n",
    "#### What keys are available?\n",
    "\n",
    "```python\n",
    "print_keys(filename)```\n",
    "\n",
    "#### What were the results?\n",
    "\n",
    "```python\n",
    "el,ea,bl = get_stats(filename,-1,['epoch_loss','epoch_accuracy','batch_loss'],display=True)\n",
    "```\n",
    "\n",
    "#### Find the experiment with the best results.\n",
    "\n",
    "```python\n",
    "print_best(filename,'epoch_loss',best='min')\n",
    "print_best(filename,'epoch_accuracy',best='max')\n",
    "```\n",
    "\n",
    "#### Graph some stats and compare results\n",
    "\n",
    "```python\n",
    "graph_stats(filename,['batch_loss','epoch_accuracy'],idxs=[-1,-2,-3])\n",
    "```"
   ]
  },
  {
   "cell_type": "markdown",
   "metadata": {},
   "source": [
    "### nb -> py"
   ]
  },
  {
   "cell_type": "markdown",
   "metadata": {},
   "source": [
    "#### Full Directory Conversion"
   ]
  },
  {
   "cell_type": "markdown",
   "metadata": {},
   "source": [
    "In python run the `simple_export_all_nb` function.  This will:\n",
    "+ Look through all your notebooks in the directory (nbs_path) for any code cells starting with `#export` or `# export`\n",
    "+ If any export code cells exist, it will take all the code and put it in a .py file located in `lib_path`\n",
    "+ The .py module will be named the same as the notebook.  There is no option to specify a seperate .py file name from your notebook name\n",
    "\n",
    "**Any .py files in your lib_path will be removed and replaced.  Do not set lib_path to a folder where you are storing other .py files.  I recommend lib_path being it's own folder only for these auto-generated modules**\n",
    "\n",
    "```python\n",
    "simple_export_all_nb(nbs_path=Path('.'), lib_path=Path('test_example'))```"
   ]
  },
  {
   "cell_type": "markdown",
   "metadata": {},
   "source": [
    "#### Single Notebook Conversion\n",
    "\n",
    "In python run the `simple_export_one_nb` function.  This will:\n",
    "\n",
    "+ Look through the specified notebook (nb_path) for any code cells starting with `#export` or `# export`\n",
    "+ If any export code cells exist, it will take all the code and put it in a .py file located in `lib_path`\n",
    "+ The .py module will be named the same as the notebook.  There is no option to specify a seperate .py file name from your notebook name\n",
    "\n",
    "\n",
    "```python\n",
    "simple_export_one_nb(nb_path=Path('./00_core.ipynb'), lib_path=Path('test_example'))```"
   ]
  },
  {
   "cell_type": "markdown",
   "metadata": {},
   "source": [
    "### py -> nb\n",
    "\n",
    "#### Full Directory Conversion\n",
    "\n",
    "In python run the `py_to_nb` function.  This will:\n",
    "+ Look through all your py files in the `py_path`\n",
    "+ Find the simple breaking points in each file (ie when new functions or classes are defined\n",
    "+ Create jupyter notebooks in `nb_path` and put code in seperate cells (with `#export` flag)\n",
    "\n",
    "**This will overwrite notebooks in the `nb_path` if they have the same name other than extension as a python module**\n",
    "\n",
    "```python\n",
    "py_to_nb(py_path=Path('./src/'),nb_pth=Path('.')```"
   ]
  },
  {
   "cell_type": "code",
   "execution_count": null,
   "metadata": {},
   "outputs": [],
   "source": []
  },
  {
   "cell_type": "code",
   "execution_count": null,
   "metadata": {},
   "outputs": [],
   "source": []
  }
 ],
 "metadata": {
  "kernelspec": {
   "display_name": "Python 3",
   "language": "python",
   "name": "python3"
  }
 },
 "nbformat": 4,
 "nbformat_minor": 4
}
