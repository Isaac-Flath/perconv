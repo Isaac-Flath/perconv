{
 "cells": [
  {
   "cell_type": "code",
   "execution_count": null,
   "metadata": {},
   "outputs": [],
   "source": [
    "#hide\n",
    "from perutils.nbutils import simple_export_all_nb,simple_export_one_nb"
   ]
  },
  {
   "cell_type": "markdown",
   "metadata": {},
   "source": [
    "# nbdev_minimum\n",
    "\n",
    "> Notebook -> module conversion with #export flags and nothing else"
   ]
  },
  {
   "cell_type": "markdown",
   "metadata": {},
   "source": [
    "**Purpose:**  The purpose and main use of this module is for adhoc projects where a full blown nbdev project is not necessary \n",
    "\n",
    "**Example Scenario** \n",
    "\n",
    "Imagine you are working on a kaggle competition. You may not want the full nbdev.  For example, you don't need separate documentation from your notebooks and you're never going to release it to pip or conda.  This module simplifies the process so you just run one command and it creates .py files from your notebooks.  Maybe you are doing an ensemble and to export the dataloaders from a notebook so you can import them into seperate notebooks for your seperate models, or maybe you have a seperate use case.\n",
    "\n",
    "That's what this module does.  it's just the #export flags from nbdev and exporting to a module folder with no setup (ie settings.ini, \\_\\_nbdev.py, etc.) for fast minimal use"
   ]
  },
  {
   "cell_type": "markdown",
   "metadata": {},
   "source": [
    "## Install"
   ]
  },
  {
   "cell_type": "markdown",
   "metadata": {},
   "source": [
    "`pip install nbdev_minimum`"
   ]
  },
  {
   "cell_type": "markdown",
   "metadata": {},
   "source": [
    "## How to use"
   ]
  },
  {
   "cell_type": "code",
   "execution_count": null,
   "metadata": {},
   "outputs": [],
   "source": [
    "#hide\n",
    "from nbdev.showdoc import *"
   ]
  },
  {
   "cell_type": "markdown",
   "metadata": {},
   "source": [
    "### nb -> py"
   ]
  },
  {
   "cell_type": "markdown",
   "metadata": {},
   "source": [
    "#### Full Directory Conversion"
   ]
  },
  {
   "cell_type": "markdown",
   "metadata": {},
   "source": [
    "In python run the `simple_export_all_nb` function.  This will:\n",
    "+ Look through all your notebooks in the directory (nbs_path) for any code cells starting with `#export` or `# export`\n",
    "+ If any export code cells exist, it will take all the code and put it in a .py file located in `lib_path`\n",
    "+ The .py module will be named the same as the notebook.  There is no option to specify a seperate .py file name from your notebook name\n",
    "\n",
    "**Any .py files in your lib_path will be removed and replaced.  Do not set lib_path to a folder where you are storing other .py files.  I recommend lib_path being it's own folder only for these auto-generated modules**\n",
    "\n",
    "```python\n",
    "simple_export_all_nb(nbs_path=Path('.'), lib_path=Path('test_example'))```"
   ]
  },
  {
   "cell_type": "markdown",
   "metadata": {},
   "source": [
    "#### Single Notebook Conversion\n",
    "\n",
    "In python run the `simple_export_one_nb` function.  This will:\n",
    "\n",
    "+ Look through the specified notebook (nb_path) for any code cells starting with `#export` or `# export`\n",
    "+ If any export code cells exist, it will take all the code and put it in a .py file located in `lib_path`\n",
    "+ The .py module will be named the same as the notebook.  There is no option to specify a seperate .py file name from your notebook name\n",
    "\n",
    "\n",
    "```python\n",
    "simple_export_one_nb(nb_path=Path('./00_core.ipynb'), lib_path=Path('test_example'))```"
   ]
  },
  {
   "cell_type": "markdown",
   "metadata": {},
   "source": [
    "### py -> nb\n",
    "\n",
    "#### Full Directory Conversion\n",
    "\n",
    "In python run the `py_to_nb` function.  This will:\n",
    "+ Look through all your py files in the `py_path`\n",
    "+ Find the simple breaking points in each file (ie when new functions or classes are defined\n",
    "+ Create jupyter notebooks in `nb_path` and put code in seperate cells (with `#export` flag)\n",
    "\n",
    "**This will overwrite notebooks in the `nb_path` if they have the same name other than extension as a python module**\n",
    "\n",
    "```python\n",
    "py_to_nb(py_path=Path('./src/'),nb_pth=Path('.')```"
   ]
  },
  {
   "cell_type": "code",
   "execution_count": null,
   "metadata": {},
   "outputs": [],
   "source": []
  }
 ],
 "metadata": {
  "kernelspec": {
   "display_name": "Python 3",
   "language": "python",
   "name": "python3"
  }
 },
 "nbformat": 4,
 "nbformat_minor": 4
}
