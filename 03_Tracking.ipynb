{
 "cells": [
  {
   "cell_type": "code",
   "execution_count": null,
   "metadata": {},
   "outputs": [],
   "source": [
    "# default_exp nbutils"
   ]
  },
  {
   "cell_type": "markdown",
   "metadata": {},
   "source": [
    "# Tracking\n",
    "\n",
    "> Simple Store, Pull, and Visualize data in nosql format"
   ]
  },
  {
   "cell_type": "markdown",
   "metadata": {},
   "source": []
  },
  {
   "cell_type": "code",
   "execution_count": null,
   "metadata": {},
   "outputs": [],
   "source": [
    "#export\n",
    "from functools import reduce\n",
    "import operator\n",
    "import shelve\n",
    "import pandas as pd\n",
    "import matplotlib.pyplot as plt\n",
    "\n",
    "from functools import partial\n",
    "from fastcore.test import test_fail"
   ]
  },
  {
   "cell_type": "code",
   "execution_count": null,
   "metadata": {},
   "outputs": [],
   "source": [
    "# common structure\n",
    "\n",
    "test_dict = {'ex':1,\n",
    "        'resnet18': {'epoch1': {'loss': 0.011, 'accuracy': 0.11},\n",
    "                     'epoch2': {'loss': 0.012, 'accuracy': 0.12},\n",
    "                     'epoch3': {'loss': 0.013, 'accuracy': 0.13}},\n",
    "        'resnet34': {'notes':f'tried cleaning up images via edge detection',\n",
    "                     'epoch1': {'loss': 0.021, 'accuracy': 0.21, 'error': 0.79, 'batch1':{'loss':.23}, 'batch2':{'loss':.23}},\n",
    "                     'epoch2': {'loss': 0.022, 'accuracy': 0.22, 'error': 0.78, 'batch1':{'loss':.23}, 'batch2':{'loss':.33}},\n",
    "                     'epoch3': {'loss': 0.023, 'accuracy': 0.23, 'error': 0.77, 'batch1':{'loss':.23}, 'batch2':{'loss':.43}}},\n",
    "         'resnet50':{'epoch1': {'loss': 0.031, 'accuracy': 0.31, 'error': 0.69},\n",
    "                     'epoch2': {'loss': 0.032, 'accuracy': 0.32, 'error': 0.68},\n",
    "                     'epoch3': {'loss': 0.033, 'accuracy': 0.33, 'error': 0.67},\n",
    "                     'epoch4': {'loss': 0.033, 'accuracy': 0.33, 'error': 0.67}}}"
   ]
  },
  {
   "cell_type": "markdown",
   "metadata": {},
   "source": [
    "# Dict Foundations"
   ]
  },
  {
   "cell_type": "code",
   "execution_count": null,
   "metadata": {},
   "outputs": [],
   "source": [
    "#export\n",
    "\n",
    "#https://stackoverflow.com/questions/14692690/access-nested-dictionary-items-via-a-list-of-keys\n",
    "def get_by_path(dict_obj, keys):\n",
    "    \"\"\"Access a nested object in root by item sequence.\"\"\"\n",
    "    return reduce(operator.getitem, keys, dict_obj)"
   ]
  },
  {
   "cell_type": "code",
   "execution_count": null,
   "metadata": {},
   "outputs": [],
   "source": [
    "assert get_by_path(test_dict,['ex']) == 1\n",
    "assert get_by_path(test_dict,['resnet18','epoch1','loss']) == 0.011"
   ]
  },
  {
   "cell_type": "code",
   "execution_count": null,
   "metadata": {},
   "outputs": [],
   "source": [
    "def set_by_path(dict_obj, keys, value):\n",
    "    \"\"\"Set a value in a nested object in root by item sequence.\"\"\"\n",
    "    get_by_path(dict_obj, keys[:-1])[keys[-1]] = value"
   ]
  },
  {
   "cell_type": "code",
   "execution_count": null,
   "metadata": {},
   "outputs": [],
   "source": [
    "set_by_path(test_dict,['ex'],2)\n",
    "assert get_by_path(test_dict,['ex']) == 2\n",
    "\n",
    "set_by_path(test_dict,['resnet18','epoch1','loss'],0.025)\n",
    "assert get_by_path(test_dict,['resnet18','epoch1','loss']) == 0.025"
   ]
  },
  {
   "cell_type": "code",
   "execution_count": null,
   "metadata": {},
   "outputs": [],
   "source": [
    "def del_by_path(dict_obj, keys):\n",
    "    \"\"\"Delete a key-value in a nested object in root by item sequence.\"\"\"\n",
    "    del get_by_path(dict_obj, keys[:-1])[keys[-1]]"
   ]
  },
  {
   "cell_type": "code",
   "execution_count": null,
   "metadata": {},
   "outputs": [],
   "source": [
    "del_by_path(test_dict,['ex'])\n",
    "f = partial(get_by_path,test_dict,['ex'])\n",
    "test_fail(f)"
   ]
  },
  {
   "cell_type": "markdown",
   "metadata": {},
   "source": [
    "# Dict Query\n",
    "\n",
    "Need to change this to be able to dictate a level to look for a stat in.  For example look for loss in level 3 would grab epoch loss, where as level 4 may grab batch loss.  Maybe recursion"
   ]
  },
  {
   "cell_type": "code",
   "execution_count": null,
   "metadata": {},
   "outputs": [],
   "source": [
    "#export\n",
    "def get_epoch_stat(dict_obj,key):\n",
    "    tmp = []\n",
    "    for k_exp, v_exp in dict_obj.items():\n",
    "        for k_epoch, v_epoch in dict_obj[k_exp].items():\n",
    "            if not k_epoch.startswith('epoch'): continue\n",
    "            for k_stats, v_stats in dict_obj[k_exp][k_epoch].items():\n",
    "                if k_stats==key:\n",
    "                    tmp.append(pd.DataFrame({'exp_key':[k_exp],'epoch_key':[k_epoch],'stat_key':[k_stats],'stat_value':[v_stats]}))\n",
    "    return pd.concat(tmp)"
   ]
  },
  {
   "cell_type": "code",
   "execution_count": null,
   "metadata": {},
   "outputs": [
    {
     "data": {
      "text/html": [
       "<div>\n",
       "<style scoped>\n",
       "    .dataframe tbody tr th:only-of-type {\n",
       "        vertical-align: middle;\n",
       "    }\n",
       "\n",
       "    .dataframe tbody tr th {\n",
       "        vertical-align: top;\n",
       "    }\n",
       "\n",
       "    .dataframe thead th {\n",
       "        text-align: right;\n",
       "    }\n",
       "</style>\n",
       "<table border=\"1\" class=\"dataframe\">\n",
       "  <thead>\n",
       "    <tr style=\"text-align: right;\">\n",
       "      <th></th>\n",
       "      <th>exp_key</th>\n",
       "      <th>epoch_key</th>\n",
       "      <th>stat_key</th>\n",
       "      <th>stat_value</th>\n",
       "    </tr>\n",
       "  </thead>\n",
       "  <tbody>\n",
       "    <tr>\n",
       "      <th>0</th>\n",
       "      <td>resnet18</td>\n",
       "      <td>epoch1</td>\n",
       "      <td>loss</td>\n",
       "      <td>0.025</td>\n",
       "    </tr>\n",
       "    <tr>\n",
       "      <th>0</th>\n",
       "      <td>resnet18</td>\n",
       "      <td>epoch2</td>\n",
       "      <td>loss</td>\n",
       "      <td>0.012</td>\n",
       "    </tr>\n",
       "    <tr>\n",
       "      <th>0</th>\n",
       "      <td>resnet18</td>\n",
       "      <td>epoch3</td>\n",
       "      <td>loss</td>\n",
       "      <td>0.013</td>\n",
       "    </tr>\n",
       "    <tr>\n",
       "      <th>0</th>\n",
       "      <td>resnet34</td>\n",
       "      <td>epoch1</td>\n",
       "      <td>loss</td>\n",
       "      <td>0.021</td>\n",
       "    </tr>\n",
       "    <tr>\n",
       "      <th>0</th>\n",
       "      <td>resnet34</td>\n",
       "      <td>epoch2</td>\n",
       "      <td>loss</td>\n",
       "      <td>0.022</td>\n",
       "    </tr>\n",
       "    <tr>\n",
       "      <th>0</th>\n",
       "      <td>resnet34</td>\n",
       "      <td>epoch3</td>\n",
       "      <td>loss</td>\n",
       "      <td>0.023</td>\n",
       "    </tr>\n",
       "    <tr>\n",
       "      <th>0</th>\n",
       "      <td>resnet50</td>\n",
       "      <td>epoch1</td>\n",
       "      <td>loss</td>\n",
       "      <td>0.031</td>\n",
       "    </tr>\n",
       "    <tr>\n",
       "      <th>0</th>\n",
       "      <td>resnet50</td>\n",
       "      <td>epoch2</td>\n",
       "      <td>loss</td>\n",
       "      <td>0.032</td>\n",
       "    </tr>\n",
       "    <tr>\n",
       "      <th>0</th>\n",
       "      <td>resnet50</td>\n",
       "      <td>epoch3</td>\n",
       "      <td>loss</td>\n",
       "      <td>0.033</td>\n",
       "    </tr>\n",
       "    <tr>\n",
       "      <th>0</th>\n",
       "      <td>resnet50</td>\n",
       "      <td>epoch4</td>\n",
       "      <td>loss</td>\n",
       "      <td>0.033</td>\n",
       "    </tr>\n",
       "  </tbody>\n",
       "</table>\n",
       "</div>"
      ],
      "text/plain": [
       "    exp_key epoch_key stat_key  stat_value\n",
       "0  resnet18    epoch1     loss       0.025\n",
       "0  resnet18    epoch2     loss       0.012\n",
       "0  resnet18    epoch3     loss       0.013\n",
       "0  resnet34    epoch1     loss       0.021\n",
       "0  resnet34    epoch2     loss       0.022\n",
       "0  resnet34    epoch3     loss       0.023\n",
       "0  resnet50    epoch1     loss       0.031\n",
       "0  resnet50    epoch2     loss       0.032\n",
       "0  resnet50    epoch3     loss       0.033\n",
       "0  resnet50    epoch4     loss       0.033"
      ]
     },
     "execution_count": null,
     "metadata": {},
     "output_type": "execute_result"
    }
   ],
   "source": [
    "epoch_stat = get_epoch_stat(test_dict,'loss')\n",
    "epoch_stat"
   ]
  },
  {
   "cell_type": "code",
   "execution_count": null,
   "metadata": {},
   "outputs": [],
   "source": [
    "#export\n",
    "def plot_epoch_stat(dict_obj,key,most_recent_n=3,figsize=(12,6)):\n",
    "    epoch_stat = get_epoch_stat(dict_obj,key)\n",
    "    fig,ax = plt.subplots(figsize=figsize)\n",
    "    exps = epoch_stat.iloc[:,0].unique()\n",
    "\n",
    "    for i,exp in enumerate(exps):\n",
    "        if i < len(exps)-most_recent_n: continue\n",
    "        exp_df = epoch_stat.loc[epoch_stat.exp_key==exp,:]\n",
    "        ax.plot(range(len(exp_df)),exp_df.stat_value,label=exp)\n",
    "        ax.legend();ax.set_title(f'epoch {key}')\n",
    "    plt.show()\n",
    "  "
   ]
  },
  {
   "cell_type": "code",
   "execution_count": null,
   "metadata": {},
   "outputs": [
    {
     "data": {
      "image/png": "[encoded data removed]",
      "text/plain": [
       "<Figure size 864x432 with 1 Axes>"
      ]
     },
     "metadata": {
      "needs_background": "light"
     },
     "output_type": "display_data"
    }
   ],
   "source": [
    "plot_epoch_stat(test_dict,'loss')"
   ]
  },
  {
   "cell_type": "code",
   "execution_count": null,
   "metadata": {},
   "outputs": [],
   "source": [
    "#export\n",
    "def get_batch_stat(dict_obj,key):\n",
    "    tmp = []\n",
    "    for k_exp, v_exp in dict_obj.items():\n",
    "        for k_epoch, v_epoch in dict_obj[k_exp].items():\n",
    "            if not k_epoch.startswith('epoch'): continue\n",
    "            for k_batch, v_batch in dict_obj[k_exp][k_epoch].items():\n",
    "                if not k_batch.startswith('batch'): continue\n",
    "                for k_stats, v_stats in dict_obj[k_exp][k_epoch][k_batch].items():\n",
    "                  if k_stats==key:\n",
    "                      tmp.append(pd.DataFrame({'exp_key':[k_exp],'epoch_key':[k_epoch],'batch_key':[k_batch],'stat_key':[k_stats],'stat_value':[v_stats]}))\n",
    "    return pd.concat(tmp)"
   ]
  },
  {
   "cell_type": "code",
   "execution_count": null,
   "metadata": {},
   "outputs": [
    {
     "data": {
      "text/html": [
       "<div>\n",
       "<style scoped>\n",
       "    .dataframe tbody tr th:only-of-type {\n",
       "        vertical-align: middle;\n",
       "    }\n",
       "\n",
       "    .dataframe tbody tr th {\n",
       "        vertical-align: top;\n",
       "    }\n",
       "\n",
       "    .dataframe thead th {\n",
       "        text-align: right;\n",
       "    }\n",
       "</style>\n",
       "<table border=\"1\" class=\"dataframe\">\n",
       "  <thead>\n",
       "    <tr style=\"text-align: right;\">\n",
       "      <th></th>\n",
       "      <th>exp_key</th>\n",
       "      <th>epoch_key</th>\n",
       "      <th>batch_key</th>\n",
       "      <th>stat_key</th>\n",
       "      <th>stat_value</th>\n",
       "    </tr>\n",
       "  </thead>\n",
       "  <tbody>\n",
       "    <tr>\n",
       "      <th>0</th>\n",
       "      <td>resnet34</td>\n",
       "      <td>epoch1</td>\n",
       "      <td>batch1</td>\n",
       "      <td>loss</td>\n",
       "      <td>0.23</td>\n",
       "    </tr>\n",
       "    <tr>\n",
       "      <th>0</th>\n",
       "      <td>resnet34</td>\n",
       "      <td>epoch1</td>\n",
       "      <td>batch2</td>\n",
       "      <td>loss</td>\n",
       "      <td>0.23</td>\n",
       "    </tr>\n",
       "    <tr>\n",
       "      <th>0</th>\n",
       "      <td>resnet34</td>\n",
       "      <td>epoch2</td>\n",
       "      <td>batch1</td>\n",
       "      <td>loss</td>\n",
       "      <td>0.23</td>\n",
       "    </tr>\n",
       "    <tr>\n",
       "      <th>0</th>\n",
       "      <td>resnet34</td>\n",
       "      <td>epoch2</td>\n",
       "      <td>batch2</td>\n",
       "      <td>loss</td>\n",
       "      <td>0.33</td>\n",
       "    </tr>\n",
       "    <tr>\n",
       "      <th>0</th>\n",
       "      <td>resnet34</td>\n",
       "      <td>epoch3</td>\n",
       "      <td>batch1</td>\n",
       "      <td>loss</td>\n",
       "      <td>0.23</td>\n",
       "    </tr>\n",
       "    <tr>\n",
       "      <th>0</th>\n",
       "      <td>resnet34</td>\n",
       "      <td>epoch3</td>\n",
       "      <td>batch2</td>\n",
       "      <td>loss</td>\n",
       "      <td>0.43</td>\n",
       "    </tr>\n",
       "  </tbody>\n",
       "</table>\n",
       "</div>"
      ],
      "text/plain": [
       "    exp_key epoch_key batch_key stat_key  stat_value\n",
       "0  resnet34    epoch1    batch1     loss        0.23\n",
       "0  resnet34    epoch1    batch2     loss        0.23\n",
       "0  resnet34    epoch2    batch1     loss        0.23\n",
       "0  resnet34    epoch2    batch2     loss        0.33\n",
       "0  resnet34    epoch3    batch1     loss        0.23\n",
       "0  resnet34    epoch3    batch2     loss        0.43"
      ]
     },
     "execution_count": null,
     "metadata": {},
     "output_type": "execute_result"
    }
   ],
   "source": [
    "batch_stat = get_batch_stat(test_dict,'loss')\n",
    "batch_stat"
   ]
  },
  {
   "cell_type": "code",
   "execution_count": null,
   "metadata": {},
   "outputs": [],
   "source": [
    "#export\n",
    "def plot_batch_stat(dict_obj,key,most_recent_n=3,figsize=(12,6)):\n",
    "    epoch_stat = get_batch_stat(dict_obj,key)\n",
    "    fig,ax = plt.subplots(figsize=figsize)\n",
    "    exps = epoch_stat.iloc[:,0].unique()\n",
    "\n",
    "    for i,exp in enumerate(exps):\n",
    "        if i < len(exps)-most_recent_n: continue\n",
    "        exp_df = epoch_stat.loc[epoch_stat.exp_key==exp,:]\n",
    "        ax.plot(range(len(exp_df)),exp_df.stat_value,label=exp)\n",
    "        ax.legend();ax.set_title(f'batch {key}')\n",
    "    plt.show()"
   ]
  },
  {
   "cell_type": "code",
   "execution_count": null,
   "metadata": {},
   "outputs": [
    {
     "data": {
      "image/png": "[encoded data removed]",
      "text/plain": [
       "<Figure size 864x432 with 1 Axes>"
      ]
     },
     "metadata": {
      "needs_background": "light"
     },
     "output_type": "display_data"
    }
   ],
   "source": [
    "plot_batch_stat(test_dict,'loss')"
   ]
  },
  {
   "cell_type": "markdown",
   "metadata": {},
   "source": [
    "# Shelve\n",
    "\n",
    "Having trouble updating subdicts.  Maybe just write to json and parse."
   ]
  },
  {
   "cell_type": "code",
   "execution_count": null,
   "metadata": {},
   "outputs": [],
   "source": [
    "# def get_stat(fname,keys,level=3):\n",
    "#     with shelve.open(fname) as d:\n",
    "#         out = get_by_path(d,keys)\n",
    "#     return out\n",
    "\n",
    "# def write_stat(fname, keys, value):\n",
    "#     with shelve.open(fname) as d:\n",
    "#         get_by_path(d, keys[:-1])[keys[-1]] = value\n",
    "#     #return out\n",
    "    \n",
    "# get_stat('test',['1']),get_stat('test',['1','a'])"
   ]
  }
 ],
 "metadata": {
  "kernelspec": {
   "display_name": "Python 3",
   "language": "python",
   "name": "python3"
  }
 },
 "nbformat": 4,
 "nbformat_minor": 4
}
