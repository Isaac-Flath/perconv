{
 "cells": [
  {
   "cell_type": "code",
   "execution_count": null,
   "metadata": {},
   "outputs": [],
   "source": [
    "# default_exp nbutils"
   ]
  },
  {
   "cell_type": "markdown",
   "metadata": {},
   "source": [
    "# Notebook Utils\n",
    "\n",
    "> Module -> notebook -> Module conversion"
   ]
  },
  {
   "cell_type": "code",
   "execution_count": null,
   "metadata": {},
   "outputs": [],
   "source": [
    "#hide\n",
    "from nbdev.showdoc import *"
   ]
  },
  {
   "cell_type": "code",
   "execution_count": null,
   "metadata": {},
   "outputs": [],
   "source": [
    "#export\n",
    "import os, json, copy\n",
    "from pathlib import Path\n",
    "from nbdev.export import read_nb"
   ]
  },
  {
   "cell_type": "markdown",
   "metadata": {},
   "source": [
    "# Module -> NB Conversion"
   ]
  },
  {
   "cell_type": "code",
   "execution_count": null,
   "metadata": {},
   "outputs": [],
   "source": [
    "#export\n",
    "def get_py_files(path): \n",
    "    '''Get all py files in a direcotry'''\n",
    "    return [f for f in os.listdir(path) if f[-3:] == '.py']"
   ]
  },
  {
   "cell_type": "code",
   "execution_count": null,
   "metadata": {},
   "outputs": [
    {
     "data": {
      "text/markdown": [
       "<h4 id=\"get_py_files\" class=\"doc_header\"><code>get_py_files</code><a href=\"__main__.py#L2\" class=\"source_link\" style=\"float:right\">[source]</a></h4>\n",
       "\n",
       "> <code>get_py_files</code>(**`path`**)\n",
       "\n",
       "Get all py files in a direcotry"
      ],
      "text/plain": [
       "<IPython.core.display.Markdown object>"
      ]
     },
     "metadata": {},
     "output_type": "display_data"
    }
   ],
   "source": [
    "show_doc(get_py_files)"
   ]
  },
  {
   "cell_type": "code",
   "execution_count": null,
   "metadata": {},
   "outputs": [],
   "source": [
    "#export\n",
    "def get_cells_one_nb(path,file_name):\n",
    "    '''For py file in path get a return list of strings\n",
    "    Each item in list will corrospond to the contents of a cell in a notebook'''\n",
    "\n",
    "    file = open(path/file_name)\n",
    "    Lines = file.readlines()\n",
    "\n",
    "    split_flag = True\n",
    "    cells = [[]]\n",
    "    i = 0\n",
    "    \n",
    "    for j,line in enumerate(Lines):\n",
    "        split_criteria = line.startswith(('import ','from ','def ','class ','@',\"if __name__ == '__main__':\"))\n",
    "        \n",
    "        if split_flag != split_criteria:  cells[i].append(line)\n",
    "\n",
    "        if split_criteria and split_flag:\n",
    "            i+=1\n",
    "            cells.append([])\n",
    "            cells[i].append('#export\\n')\n",
    "            cells[i].append(line)\n",
    "            split_flag = False\n",
    "\n",
    "        if not split_flag and not split_criteria: split_flag = True    \n",
    "\n",
    "    return cells"
   ]
  },
  {
   "cell_type": "code",
   "execution_count": null,
   "metadata": {},
   "outputs": [
    {
     "data": {
      "text/markdown": [
       "<h4 id=\"get_cells_one_nb\" class=\"doc_header\"><code>get_cells_one_nb</code><a href=\"__main__.py#L2\" class=\"source_link\" style=\"float:right\">[source]</a></h4>\n",
       "\n",
       "> <code>get_cells_one_nb</code>(**`path`**, **`file_name`**)\n",
       "\n",
       "For py file in path get a return list of strings\n",
       "Each item in list will corrospond to the contents of a cell in a notebook"
      ],
      "text/plain": [
       "<IPython.core.display.Markdown object>"
      ]
     },
     "metadata": {},
     "output_type": "display_data"
    }
   ],
   "source": [
    "show_doc(get_cells_one_nb)"
   ]
  },
  {
   "cell_type": "code",
   "execution_count": null,
   "metadata": {},
   "outputs": [],
   "source": [
    "#export\n",
    "def write_code_cell(code):\n",
    "    '''take a piece of code and write it to a code cell\n",
    "    '''\n",
    "    out = {\"cell_type\": \"code\",\"execution_count\": 0,\"metadata\": {},\"outputs\": [],\"source\": []}\n",
    "    out[\"source\"] = code\n",
    "    return out  "
   ]
  },
  {
   "cell_type": "code",
   "execution_count": null,
   "metadata": {},
   "outputs": [
    {
     "data": {
      "text/markdown": [
       "<h4 id=\"write_code_cell\" class=\"doc_header\"><code>write_code_cell</code><a href=\"__main__.py#L2\" class=\"source_link\" style=\"float:right\">[source]</a></h4>\n",
       "\n",
       "> <code>write_code_cell</code>(**`code`**)\n",
       "\n",
       "take a piece of code and write it to a code cell\n",
       "    "
      ],
      "text/plain": [
       "<IPython.core.display.Markdown object>"
      ]
     },
     "metadata": {},
     "output_type": "display_data"
    }
   ],
   "source": [
    "show_doc(write_code_cell)"
   ]
  },
  {
   "cell_type": "code",
   "execution_count": null,
   "metadata": {},
   "outputs": [],
   "source": [
    "#export\n",
    "def py_to_nb(py_path,nb_path):\n",
    "    '''Write jupyter notebooks based on py files in py_path'''\n",
    "    if not os.path.exists(nb_path): os.makedirs(nb_path)\n",
    "      \n",
    "    files = get_py_files(py_path)\n",
    "    \n",
    "    nb = {\"cells\": [],\"metadata\": {},\"nbformat\": 4, \"nbformat_minor\": 4}\n",
    "    for i,file in enumerate(files): \n",
    "        out_file = f'{file[:-2]}ipynb'; print(f'writing {out_file}') # change extension\n",
    "        cells = get_cells_one_nb(py_path,files[i]) # get cells that should be written\n",
    "        for cell in cells: nb[\"cells\"].append(write_code_cell(cell)) # add cells to dict\n",
    "        with open(nb_path/out_file, 'w') as file: file.write(json.dumps(nb)) # write dict to json"
   ]
  },
  {
   "cell_type": "code",
   "execution_count": null,
   "metadata": {},
   "outputs": [
    {
     "data": {
      "text/markdown": [
       "<h4 id=\"py_to_nb\" class=\"doc_header\"><code>py_to_nb</code><a href=\"__main__.py#L2\" class=\"source_link\" style=\"float:right\">[source]</a></h4>\n",
       "\n",
       "> <code>py_to_nb</code>(**`py_path`**, **`nb_pth`**)\n",
       "\n",
       "Write jupyter notebooks based on py files in py_path"
      ],
      "text/plain": [
       "<IPython.core.display.Markdown object>"
      ]
     },
     "metadata": {},
     "output_type": "display_data"
    }
   ],
   "source": [
    "show_doc(py_to_nb)"
   ]
  },
  {
   "cell_type": "code",
   "execution_count": null,
   "metadata": {},
   "outputs": [],
   "source": [
    "cells = get_cells_one_nb(Path('perutils'),'nbutils.py')"
   ]
  },
  {
   "cell_type": "markdown",
   "metadata": {},
   "source": [
    "# NB -> Module Conversion"
   ]
  },
  {
   "cell_type": "code",
   "execution_count": null,
   "metadata": {},
   "outputs": [],
   "source": [
    "#export\n",
    "def get_module_text(notebook_path):\n",
    "    '''Read ipynb file and get all code from code cells with #export or # export at the beginning'''\n",
    "    nb = read_nb(notebook_path)\n",
    "    module = ''\n",
    "    for cell in nb['cells']: \n",
    "        if cell['cell_type']=='code':\n",
    "            if cell['source'].startswith('#export') or cell['source'].startswith('# export'):\n",
    "                module = module + cell['source'] + '\\n\\n'\n",
    "    return module"
   ]
  },
  {
   "cell_type": "code",
   "execution_count": null,
   "metadata": {},
   "outputs": [
    {
     "data": {
      "text/markdown": [
       "<h4 id=\"get_module_text\" class=\"doc_header\"><code>get_module_text</code><a href=\"__main__.py#L2\" class=\"source_link\" style=\"float:right\">[source]</a></h4>\n",
       "\n",
       "> <code>get_module_text</code>(**`notebook_path`**)\n",
       "\n",
       "Read ipynb file and get all code from code cells with #export or # export at the beginning"
      ],
      "text/plain": [
       "<IPython.core.display.Markdown object>"
      ]
     },
     "metadata": {},
     "output_type": "display_data"
    }
   ],
   "source": [
    "show_doc(get_module_text)"
   ]
  },
  {
   "cell_type": "code",
   "execution_count": null,
   "metadata": {},
   "outputs": [],
   "source": [
    "#export\n",
    "def write_module_text(module_text,notebook_name,lib_path=Path('./src')):\n",
    "    '''Write module_text to lib_path/notebook_name as .py file'''\n",
    "    if not os.path.exists(lib_path): os.makedirs(lib_path)\n",
    "    module_name = (str(notebook_name)[:-5] + 'py').lstrip('0123456789.- _').replace('-','_')\n",
    "    f = open(lib_path/module_name, \"w\")\n",
    "    f.write(module_text)\n",
    "    f.close()\n",
    "    print(f'Converted {lib_path/module_name}')"
   ]
  },
  {
   "cell_type": "code",
   "execution_count": null,
   "metadata": {},
   "outputs": [
    {
     "data": {
      "text/markdown": [
       "<h4 id=\"write_module_text\" class=\"doc_header\"><code>write_module_text</code><a href=\"__main__.py#L2\" class=\"source_link\" style=\"float:right\">[source]</a></h4>\n",
       "\n",
       "> <code>write_module_text</code>(**`module_text`**, **`notebook_name`**, **`lib_path`**=*`Path('src')`*)\n",
       "\n",
       "Write module_text to lib_path/notebook_name as .py file"
      ],
      "text/plain": [
       "<IPython.core.display.Markdown object>"
      ]
     },
     "metadata": {},
     "output_type": "display_data"
    }
   ],
   "source": [
    "show_doc(write_module_text)"
   ]
  },
  {
   "cell_type": "code",
   "execution_count": null,
   "metadata": {},
   "outputs": [],
   "source": [
    "#export\n",
    "def clear_all_modules(lib_path=Path('./src')):\n",
    "    '''Clear all .py files from lib_path to reset your .py exported files'''\n",
    "    if not os.path.exists(lib_path): os.makedirs(lib_path)\n",
    "    filelist = [ f for f in os.listdir(lib_path) if f.endswith('.py')]\n",
    "    for f in filelist: os.remove(os.path.join(lib_path, f))\n",
    "    print('========= Modules Cleared ==========')"
   ]
  },
  {
   "cell_type": "code",
   "execution_count": null,
   "metadata": {},
   "outputs": [
    {
     "data": {
      "text/markdown": [
       "<h4 id=\"clear_all_modules\" class=\"doc_header\"><code>clear_all_modules</code><a href=\"__main__.py#L2\" class=\"source_link\" style=\"float:right\">[source]</a></h4>\n",
       "\n",
       "> <code>clear_all_modules</code>(**`lib_path`**=*`Path('src')`*)\n",
       "\n",
       "Clear all .py files from lib_path to reset your .py exported files"
      ],
      "text/plain": [
       "<IPython.core.display.Markdown object>"
      ]
     },
     "metadata": {},
     "output_type": "display_data"
    }
   ],
   "source": [
    "show_doc(clear_all_modules)"
   ]
  },
  {
   "cell_type": "code",
   "execution_count": null,
   "metadata": {},
   "outputs": [],
   "source": [
    "#export\n",
    "def simple_export_one_nb(nb_path,lib_path = Path('./src')):\n",
    "    '''clear_all_modules in lib_path\n",
    "    for each notebook in nbs_path get_module_text and write_module_text to lib_path \n",
    "    All .py files in lib_path will be removed and replaced\n",
    "    '''\n",
    "    module_text = get_module_text(nb_path)\n",
    "    if module_text == '': print(f'Nothing to Convert {lib_path/nb_path}')\n",
    "    else: write_module_text(module_text,nb_path,lib_path)"
   ]
  },
  {
   "cell_type": "code",
   "execution_count": null,
   "metadata": {},
   "outputs": [
    {
     "data": {
      "text/markdown": [
       "<h4 id=\"simple_export_one_nb\" class=\"doc_header\"><code>simple_export_one_nb</code><a href=\"__main__.py#L2\" class=\"source_link\" style=\"float:right\">[source]</a></h4>\n",
       "\n",
       "> <code>simple_export_one_nb</code>(**`nb_path`**, **`lib_path`**=*`Path('src')`*)\n",
       "\n",
       "clear_all_modules in lib_path\n",
       "for each notebook in nbs_path get_module_text and write_module_text to lib_path \n",
       "All .py files in lib_path will be removed and replaced"
      ],
      "text/plain": [
       "<IPython.core.display.Markdown object>"
      ]
     },
     "metadata": {},
     "output_type": "display_data"
    }
   ],
   "source": [
    "show_doc(simple_export_one_nb)"
   ]
  },
  {
   "cell_type": "code",
   "execution_count": null,
   "metadata": {},
   "outputs": [],
   "source": [
    "#export\n",
    "def simple_export_all_nb(nbs_path = Path('.'),lib_path = Path('./src'),clear=False):\n",
    "    '''clear_all_modules in lib_path if clear=True\n",
    "     for each notebook in nbs_path get_module_text and write_module_text to lib_path \n",
    "     All .py files in lib_path will be removed and replaced\n",
    "    '''\n",
    "    nbs = [nbs_path/n for n in  os.listdir(nbs_path) if n.endswith('.ipynb')]\n",
    "    if clear: clear_all_modules(lib_path)\n",
    "    for i in range(len(nbs)): simple_export_one_nb(nbs[i],lib_path)"
   ]
  },
  {
   "cell_type": "code",
   "execution_count": null,
   "metadata": {},
   "outputs": [
    {
     "data": {
      "text/markdown": [
       "<h4 id=\"simple_export_all_nb\" class=\"doc_header\"><code>simple_export_all_nb</code><a href=\"__main__.py#L2\" class=\"source_link\" style=\"float:right\">[source]</a></h4>\n",
       "\n",
       "> <code>simple_export_all_nb</code>(**`nbs_path`**=*`Path('.')`*, **`lib_path`**=*`Path('src')`*, **`clear`**=*`False`*)\n",
       "\n",
       "clear_all_modules in lib_path if clear=True\n",
       "for each notebook in nbs_path get_module_text and write_module_text to lib_path \n",
       "All .py files in lib_path will be removed and replaced"
      ],
      "text/plain": [
       "<IPython.core.display.Markdown object>"
      ]
     },
     "metadata": {},
     "output_type": "display_data"
    }
   ],
   "source": [
    "show_doc(simple_export_all_nb)"
   ]
  },
  {
   "cell_type": "code",
   "execution_count": null,
   "metadata": {},
   "outputs": [
    {
     "name": "stdout",
     "output_type": "stream",
     "text": [
      "Converted test_example/nbutils.py\n",
      "Nothing to Convert test_example/index.ipynb\n"
     ]
    }
   ],
   "source": [
    "simple_export_all_nb(lib_path=Path('./test_example'))"
   ]
  },
  {
   "cell_type": "code",
   "execution_count": null,
   "metadata": {},
   "outputs": [
    {
     "name": "stdout",
     "output_type": "stream",
     "text": [
      "Converted test_example/nbutils.py\n"
     ]
    }
   ],
   "source": [
    "simple_export_one_nb(Path('01_nbutils.ipynb'),lib_path=Path('./test_example'))"
   ]
  },
  {
   "cell_type": "markdown",
   "metadata": {},
   "source": [
    "# Other"
   ]
  },
  {
   "cell_type": "code",
   "execution_count": null,
   "metadata": {},
   "outputs": [],
   "source": [
    "def clear_cell_outputs(nb_path):\n",
    "    '''Read nb in nb_path, clear cell outputs, overwrite it with new nb'''\n",
    "    nb = read_nb(nb_path)\n",
    "    for i in range(len(a['cells'])): a['cells'][i]['outputs'] = []\n",
    "    with open(nb_path, 'w') as file: file.write(json.dumps(nb))"
   ]
  },
  {
   "cell_type": "code",
   "execution_count": null,
   "metadata": {},
   "outputs": [],
   "source": []
  }
 ],
 "metadata": {
  "kernelspec": {
   "display_name": "Python 3 (ipykernel)",
   "language": "python",
   "name": "python3"
  }
 },
 "nbformat": 4,
 "nbformat_minor": 4
}
