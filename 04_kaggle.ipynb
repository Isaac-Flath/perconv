{
 "cells": [
  {
   "cell_type": "code",
   "execution_count": null,
   "id": "4df6012c-0257-46fc-abe9-2246584945a2",
   "metadata": {},
   "outputs": [],
   "source": [
    "# default_exp kaggle"
   ]
  },
  {
   "cell_type": "markdown",
   "id": "1cd72139-2141-45c1-9d89-38b1b2fb6aba",
   "metadata": {},
   "source": [
    "# Kaggle\n",
    "\n",
    "> Simple functions to save time when working with kaggle"
   ]
  },
  {
   "cell_type": "code",
   "execution_count": null,
   "id": "e9de10b2",
   "metadata": {},
   "outputs": [],
   "source": [
    "#hide\n",
    "from nbdev.showdoc import *"
   ]
  },
  {
   "cell_type": "code",
   "execution_count": null,
   "id": "1dc7042e-f9eb-4036-823c-caebe22f6b83",
   "metadata": {},
   "outputs": [],
   "source": [
    "#export\n",
    "import os\n",
    "from pathlib import Path\n",
    "import subprocess\n",
    "import shutil\n",
    "from nbdev.showdoc import *"
   ]
  },
  {
   "cell_type": "markdown",
   "id": "5cae18f0-07df-4826-b6b1-5183e1fdf7ff",
   "metadata": {},
   "source": [
    "# Foundations"
   ]
  },
  {
   "cell_type": "code",
   "execution_count": null,
   "id": "140a7dcd-ea78-40c3-b252-886d8e90b9a8",
   "metadata": {},
   "outputs": [],
   "source": [
    "#export\n",
    "def run_bash(bashCommand):\n",
    "    print('+'*30)\n",
    "    print(f'Running command {bashCommand}')\n",
    "    process = subprocess.Popen(bashCommand.split(), stdout=subprocess.PIPE)\n",
    "    output, error = process.communicate()\n",
    "    print(output)\n",
    "    print(error)\n",
    "    print('+'*30)\n",
    "    return process, output, error"
   ]
  },
  {
   "cell_type": "markdown",
   "id": "ea3a8de1-1ef2-4356-bf5f-a105946e0666",
   "metadata": {},
   "source": [
    "# Dataset Basics"
   ]
  },
  {
   "cell_type": "code",
   "execution_count": null,
   "id": "c5b1f110-5a56-4801-941a-753aec6fe750",
   "metadata": {},
   "outputs": [],
   "source": [
    "#export\n",
    "def update_datset(dataset_path,update_message):\n",
    "    if os.path.exists(dataset_path/'.ipynb_checkpoints'): shutil.rmtree(dataset_path/'.ipynb_checkpoints')\n",
    "    if os.path.exists(dataset_path/'tmp.txt'): os.remove(dataset_path/'tmp.txt')\n",
    "    bashCommand = f'''kaggle datasets version -p {dataset_path} -m \"{update_message}\" --dir-mode zip'''\n",
    "    process, output, error = run_bash(bashCommand)\n",
    "    return process, output, error"
   ]
  },
  {
   "cell_type": "code",
   "execution_count": null,
   "id": "d75b3a1e-49bb-4c74-b364-1af8b736f08e",
   "metadata": {},
   "outputs": [],
   "source": [
    "#export\n",
    "def create_dataset(dataset_path,dataset_name):\n",
    "    if not os.path.exists(dataset_path): os.makedirs(dataset_path)\n",
    "    \n",
    "    bashCommand = f\"kaggle datasets init -p {dataset_path}\"\n",
    "    process, output, error = run_bash(bashCommand)\n",
    "        \n",
    "    with open(dataset_path/'dataset-metadata.json','r') as f: txt = f.readlines()\n",
    "    txt = '\\n'.join(txt)\n",
    "    txt = txt.replace(\"INSERT_TITLE_HERE\",dataset_name)\n",
    "    txt = txt.replace(\"INSERT_SLUG_HERE\",dataset_name)\n",
    "    with open(dataset_path/'dataset-metadata.json','w') as f: f.write(txt)  \n",
    "    os.system(f\"touch {dataset_path/'tmp.txt'}\")\n",
    "    bashCommand = f\"kaggle datasets create -p {dataset_path} -u\"\n",
    "    process, output, error = run_bash(bashCommand)\n",
    "    return process, output, error             "
   ]
  },
  {
   "cell_type": "code",
   "execution_count": null,
   "id": "cf66db8e-822c-486a-be20-2fb51f955884",
   "metadata": {},
   "outputs": [],
   "source": [
    "#export\n",
    "def download_dataset_metadata(dataset_path,dataset_id):\n",
    "    '''example: kaggle datasets metadata -p /path/to/download zillow/zecon'''\n",
    "    bashCommand = f\"kaggle datasets metadata -p {dataset_path} {dataset_id}\"\n",
    "    process, output, error = run_bash(bashCommand)\n",
    "    if str(output).find('404') != -1: print('404: Dataset not found')              \n",
    "    return process, output, error"
   ]
  },
  {
   "cell_type": "code",
   "execution_count": null,
   "id": "5b35526c-5507-462f-9dfa-7f4d08af3518",
   "metadata": {},
   "outputs": [],
   "source": [
    "#export\n",
    "def download_dataset_content(dataset_id):\n",
    "    '''example: kaggle datasets download -d /path/to/download zillow/zecon'''\n",
    "    bashCommand = f\"kaggle datasets download -d {dataset_id}\"\n",
    "    process, output, error = run_bash(bashCommand)\n",
    "    if str(output).find('404') != -1: print('404: Dataset not found')\n",
    "    return process, output, error"
   ]
  },
  {
   "cell_type": "markdown",
   "id": "949c405a-41c4-47fb-b69c-ff0157f399a6",
   "metadata": {},
   "source": [
    "# Dataset Utilities"
   ]
  },
  {
   "cell_type": "code",
   "execution_count": null,
   "id": "9001efdb-88c4-4e33-be2a-a0440864c22e",
   "metadata": {},
   "outputs": [],
   "source": [
    "#export\n",
    "def download_dataset(dataset_path,dataset_id,dataset_name,content=True, unzip=True):\n",
    "    dataset_name = dataset_id.split('/')[-1]\n",
    "    process, output, error = download_dataset_metadata(dataset_path,dataset_id)\n",
    "    if (str(output).find('404') == -1 )and content: \n",
    "        download_dataset_content(dataset_id)\n",
    "        os.system(f\"mv {dataset_name}.zip {dataset_path}\")\n",
    "        if unzip: \n",
    "                bashCommand = f\"unzip {dataset_path/(dataset_name+'.zip')} -d {dataset_path}\"\n",
    "                process, output, error = run_bash(bashCommand)\n",
    "    else: process, output, error = create_dataset(dataset_path,dataset_name)\n",
    "    return output, error\n",
    "    "
   ]
  },
  {
   "cell_type": "code",
   "execution_count": null,
   "id": "03e55f2d-9a8a-4c26-a255-70b3a1031176",
   "metadata": {},
   "outputs": [],
   "source": [
    "#export\n",
    "def add_library_to_dataset(library,dataset_path,pip_cmd=\"pip3\",):        \n",
    "    bashCommand = f\"{pip_cmd} download {library} -d {dataset_path}\"\n",
    "    process, output, error = run_bash(bashCommand)\n",
    "    return process, output, error"
   ]
  }
 ],
 "metadata": {
  "kernelspec": {
   "display_name": "Python 3 (ipykernel)",
   "language": "python",
   "name": "python3"
  }
 },
 "nbformat": 4,
 "nbformat_minor": 5
}
